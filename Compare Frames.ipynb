{
 "cells": [
  {
   "cell_type": "markdown",
   "metadata": {},
   "source": [
    "### This notebook is built upon results acquired in previous notebooks: Hash Pictures.ipynb & Capturing Frames.ipynb"
   ]
  },
  {
   "cell_type": "markdown",
   "metadata": {},
   "source": [
    "Now we have saved the captured frames in two different locations. We can use our hash method for comparison."
   ]
  },
  {
   "cell_type": "markdown",
   "metadata": {},
   "source": [
    "#### First step, hash all the captured frames in the first folder and store them in a list"
   ]
  },
  {
   "cell_type": "code",
   "execution_count": 7,
   "metadata": {},
   "outputs": [],
   "source": [
    "import hashlib, os\n",
    "\n",
    "hasher_list1 = []\n",
    "for root, dirs,files in os.walk(r'C:\\Users\\lebro\\Documents\\Python Scripts\\Machine Learning\\test', topdown=True):\n",
    "    for name in files:\n",
    "        #print(os.path.join(root, name))\n",
    "        FileName = (os.path.join(root, name))\n",
    "\n",
    "        hasher = hashlib.md5()\n",
    "        with open(str(FileName), 'rb') as afile:\n",
    "            buf = afile.read()\n",
    "            hasher.update(buf)\n",
    "        hasher_list1.append(hasher.hexdigest())"
   ]
  },
  {
   "cell_type": "code",
   "execution_count": 14,
   "metadata": {},
   "outputs": [
    {
     "data": {
      "text/plain": [
       "739"
      ]
     },
     "execution_count": 14,
     "metadata": {},
     "output_type": "execute_result"
    }
   ],
   "source": [
    "len(hasher_list1)"
   ]
  },
  {
   "cell_type": "markdown",
   "metadata": {},
   "source": [
    "#### Second step, hash all the captured frames in the second folder and store them in another list"
   ]
  },
  {
   "cell_type": "code",
   "execution_count": 8,
   "metadata": {},
   "outputs": [],
   "source": [
    "hasher_list2 = []\n",
    "for root, dirs,files in os.walk(r'C:\\Users\\lebro\\Documents\\Python Scripts\\Machine Learning\\check', topdown=True):\n",
    "    #Note the differences in the directory\n",
    "    for name in files:\n",
    "        #print(os.path.join(root, name))\n",
    "        FileName = (os.path.join(root, name))\n",
    "\n",
    "        hasher = hashlib.md5()\n",
    "        with open(str(FileName), 'rb') as afile:\n",
    "            buf = afile.read()\n",
    "            hasher.update(buf)\n",
    "        hasher_list2.append(hasher.hexdigest())"
   ]
  },
  {
   "cell_type": "code",
   "execution_count": 11,
   "metadata": {},
   "outputs": [
    {
     "data": {
      "text/plain": [
       "739"
      ]
     },
     "execution_count": 11,
     "metadata": {},
     "output_type": "execute_result"
    }
   ],
   "source": [
    "len(hasher_list2)"
   ]
  },
  {
   "cell_type": "markdown",
   "metadata": {},
   "source": [
    "#### Third and last step, check if the two lists are identical"
   ]
  },
  {
   "cell_type": "code",
   "execution_count": 16,
   "metadata": {},
   "outputs": [
    {
     "data": {
      "text/plain": [
       "True"
      ]
     },
     "execution_count": 16,
     "metadata": {},
     "output_type": "execute_result"
    },
    {
     "data": {
      "text/plain": [
       "True"
      ]
     },
     "execution_count": 16,
     "metadata": {},
     "output_type": "execute_result"
    }
   ],
   "source": [
    "#Two ways to do that.\n",
    "\n",
    "hasher_list1 == hasher_list2\n",
    "all([len(hasher_list1) == len(hasher_list2), set(hasher_list1) == set(hasher_list2)])"
   ]
  },
  {
   "cell_type": "code",
   "execution_count": null,
   "metadata": {},
   "outputs": [],
   "source": []
  },
  {
   "cell_type": "code",
   "execution_count": null,
   "metadata": {},
   "outputs": [],
   "source": []
  },
  {
   "cell_type": "code",
   "execution_count": null,
   "metadata": {},
   "outputs": [],
   "source": []
  }
 ],
 "metadata": {
  "kernelspec": {
   "display_name": "Python 3",
   "language": "python",
   "name": "python3"
  },
  "language_info": {
   "codemirror_mode": {
    "name": "ipython",
    "version": 3
   },
   "file_extension": ".py",
   "mimetype": "text/x-python",
   "name": "python",
   "nbconvert_exporter": "python",
   "pygments_lexer": "ipython3",
   "version": "3.7.4"
  }
 },
 "nbformat": 4,
 "nbformat_minor": 2
}
